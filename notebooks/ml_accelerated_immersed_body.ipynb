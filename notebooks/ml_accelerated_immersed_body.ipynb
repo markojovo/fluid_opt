{
  "cells": [
    {
      "cell_type": "markdown",
      "metadata": {
        "id": "4K4FCNvH8dtm"
      },
      "source": [
        "# JAX-CFD Immersed Body Demo\n",
        "\n",
        "This demonstration shows how to use JAX-CFD to simulate 2d flow between parallel no-slip walls, with a no-slip immersed body in the center of the domain"
      ]
    },
    {
      "cell_type": "code",
      "execution_count": 2,
      "metadata": {
        "executionInfo": {
          "elapsed": 5628,
          "status": "ok",
          "timestamp": 1655317705710,
          "user": {
            "displayName": "",
            "userId": ""
          },
          "user_tz": 420
        },
        "id": "n2J40uBCo9By"
      },
      "outputs": [],
      "source": [
        "import jax\n",
        "import jax.numpy as jnp\n",
        "import matplotlib.pyplot as plt \n",
        "import numpy as np\n",
        "import seaborn\n",
        "import jax_cfd.base as cfd\n",
        "import xarray\n"
      ]
    },
    {
      "cell_type": "code",
      "execution_count": 3,
      "metadata": {
        "executionInfo": {
          "elapsed": 5028,
          "status": "ok",
          "timestamp": 1655317714655,
          "user": {
            "displayName": "",
            "userId": ""
          },
          "user_tz": 420
        },
        "id": "KcJcpDavpAoi"
      },
      "outputs": [],
      "source": [
        "from jax_cfd.base.boundaries import channel_flow_with_simple_immersed_body_boundary_conditions\n",
        "\n",
        "size = (512, 128)\n",
        "domain = ((0, 8), (0, 2))\n",
        "density = 1.\n",
        "viscosity = 1e-3  # kinematic viscosity\n",
        "pressure_gradient = 2e-3  # uniform dP/dx\n",
        "\n",
        "# Define the physical dimensions of the simulation.\n",
        "grid = cfd.grids.Grid(size, domain=domain)\n",
        "\n",
        "# Use the new helper that returns a single ConstantBoundaryConditions\n",
        "velocity_bc = (\n",
        "    channel_flow_with_simple_immersed_body_boundary_conditions(grid, shape='circle', shape_size=0.25, bc_value=0.0),\n",
        "    channel_flow_with_simple_immersed_body_boundary_conditions(grid, shape='circle', shape_size=0.25, bc_value=0.0),\n",
        ")\n",
        "\n",
        "# Specify zero velocity initial conditions\n",
        "vx_fn = lambda x, y: jnp.zeros_like(x + y)\n",
        "vy_fn = lambda x, y: jnp.zeros_like(x + y)\n",
        "\n",
        "v0 = cfd.initial_conditions.initial_velocity_field(\n",
        "    velocity_fns=(vx_fn, vy_fn),\n",
        "    grid=grid,\n",
        "    velocity_bc=velocity_bc,\n",
        "    pressure_solve=cfd.pressure.solve_fast_diag_channel_flow,\n",
        "    iterations=5\n",
        ")\n",
        "\n",
        "# Confirm that the divergence of v0 is zero\n",
        "# div = cfd.finite_differences.divergence(v0)\n",
        "# np.testing.assert_allclose(div.data, 0)\n",
        "\n",
        "# Specify a fixed time step based on the convection and diffusion scales\n",
        "max_velocity = 1  # value selected from known equilibrium profile\n",
        "cfl_safety_factor = 0.5\n",
        "\n",
        "dt = cfd.equations.stable_time_step(\n",
        "    max_velocity, cfl_safety_factor, viscosity, grid\n",
        ")\n"
      ]
    },
    {
      "cell_type": "code",
      "execution_count": 4,
      "metadata": {
        "executionInfo": {
          "elapsed": 2,
          "status": "ok",
          "timestamp": 1655317720089,
          "user": {
            "displayName": "",
            "userId": ""
          },
          "user_tz": 420
        },
        "id": "oZokhSc6VMKv"
      },
      "outputs": [],
      "source": [
        "# Define a linear force due to the uniform pressure gradient\n",
        "def pressure_gradient_forcing(pressure_gradient: float):\n",
        "  \n",
        "  def forcing(v):\n",
        "    force_vector = (pressure_gradient, 0)\n",
        "    return tuple(cfd.grids.GridArray(f * jnp.ones_like(u.data), u.offset, u.grid)\n",
        "                 for f, u in zip(force_vector, v))\n",
        "  \n",
        "  return forcing\n",
        "\n"
      ]
    },
    {
      "cell_type": "code",
      "execution_count": null,
      "metadata": {},
      "outputs": [
        {
          "name": "stdout",
          "output_type": "stream",
          "text": [
            "ckpt attrs: ['eval_params', 'model_config_str', 'model_time_step', 'step']\n"
          ]
        }
      ],
      "source": [
        "import sys\n",
        "import pickle\n",
        "import gin\n",
        "import functools\n",
        "import haiku as hk\n",
        "import jax\n",
        "import jax.numpy as jnp\n",
        "from pathlib import Path\n",
        "\n",
        "import jax_cfd.base as cfd\n",
        "from jax_cfd.ml import model_builder\n",
        "from jax_cfd.ml import physics_specifications as phys\n",
        "\n",
        "# 0. PhysicsSpecs (only needed if your gin config doesn’t include forcing)\n",
        "specs = phys.NavierStokesPhysicsSpecs(\n",
        "    density=density,\n",
        "    viscosity=viscosity,\n",
        "    forcing_module=lambda g: pressure_gradient_forcing(pressure_gradient)\n",
        ")\n",
        "\n",
        "# 1. Point to your checkpoint\n",
        "model_type = 'LI'  \n",
        "ckpt_path   = Path(f\"~/jax_cfd_models/{model_type}/{model_type}_ckpt.pkl\") \\\n",
        "                .expanduser()\n",
        "\n",
        "# 2. Stub out CheckpointState so pickle can find it\n",
        "sys.modules['__main__'].CheckpointState = type('CheckpointState', (), {})\n",
        "\n",
        "# 3. Load the checkpoint\n",
        "with ckpt_path.open('rb') as f:\n",
        "    ckpt = pickle.load(f)\n",
        "\n",
        "print(\"ckpt attrs:\", [a for a in dir(ckpt) if not a.startswith('_')])\n",
        "\n",
        "# 4. Extract params and gin settings\n",
        "params        = ckpt.eval_params\n",
        "gin.clear_config()\n",
        "gin.parse_config(ckpt.model_config_str)       # imports / modules / forcing baked in\n",
        "dt            = ckpt.model_time_step\n",
        "physics_specs = phys.get_physics_specs()      # uses the gin‑configured values\n",
        "\n",
        "# 5. Get the model class that wraps encode/advance/decode\n",
        "model_cls = model_builder.get_model_cls(grid, dt, physics_specs)\n",
        "\n",
        "# 6. Turn it into a pure one‑step function under Haiku\n",
        "@hk.without_apply_rng\n",
        "@hk.transform\n",
        "def one_step(v):\n",
        "    solver = model_cls()\n",
        "    s      = solver.encode(v)\n",
        "    s      = solver.advance(s)\n",
        "    return solver.decode(s)\n",
        "\n",
        "_           = one_step.init(jax.random.PRNGKey(0), v0)\n",
        "single_step = functools.partial(one_step.apply, params)   # now single_step(v) → v_next"
      ]
    },
    {
      "cell_type": "code",
      "execution_count": null,
      "metadata": {
        "executionInfo": {
          "elapsed": 12362,
          "status": "ok",
          "timestamp": 1655317733789,
          "user": {
            "displayName": "",
            "userId": ""
          },
          "user_tz": 420
        },
        "id": "_5YttC-TVxk1",
        "outputId": "b4e346c5-365c-48fc-e946-5957872f9ea1"
      },
      "outputs": [
        {
          "ename": "TypeError",
          "evalue": "'Transformed' object is not callable",
          "output_type": "error",
          "traceback": [
            "\u001b[0;31m---------------------------------------------------------------------------\u001b[0m",
            "\u001b[0;31mTypeError\u001b[0m                                 Traceback (most recent call last)",
            "Cell \u001b[0;32mIn[7], line 8\u001b[0m\n\u001b[1;32m      4\u001b[0m step_rep   \u001b[38;5;241m=\u001b[39m cfd\u001b[38;5;241m.\u001b[39mfuncutils\u001b[38;5;241m.\u001b[39mrepeated(one_step, steps\u001b[38;5;241m=\u001b[39minner_steps)\n\u001b[1;32m      5\u001b[0m rollout_fn \u001b[38;5;241m=\u001b[39m jax\u001b[38;5;241m.\u001b[39mjit(\n\u001b[1;32m      6\u001b[0m         cfd\u001b[38;5;241m.\u001b[39mfuncutils\u001b[38;5;241m.\u001b[39mtrajectory(step_rep, outer_steps, start_with_input\u001b[38;5;241m=\u001b[39m\u001b[38;5;28;01mTrue\u001b[39;00m))\n\u001b[0;32m----> 8\u001b[0m _, trajectory \u001b[38;5;241m=\u001b[39m jax\u001b[38;5;241m.\u001b[39mdevice_get(\u001b[43mrollout_fn\u001b[49m\u001b[43m(\u001b[49m\u001b[43mv0\u001b[49m\u001b[43m)\u001b[49m)\n\u001b[1;32m      9\u001b[0m \u001b[38;5;28mprint\u001b[39m(\u001b[38;5;124m\"\u001b[39m\u001b[38;5;124mdone – trajectory shape:\u001b[39m\u001b[38;5;124m\"\u001b[39m, trajectory[\u001b[38;5;241m0\u001b[39m]\u001b[38;5;241m.\u001b[39mdata\u001b[38;5;241m.\u001b[39mshape)\n",
            "    \u001b[0;31m[... skipping hidden 13 frame]\u001b[0m\n",
            "File \u001b[0;32m/mnt/k/fluid_opt/jax_cfd/base/funcutils.py:124\u001b[0m, in \u001b[0;36mtrajectory.<locals>.multistep\u001b[0;34m(values)\u001b[0m\n\u001b[1;32m    123\u001b[0m \u001b[38;5;28;01mdef\u001b[39;00m\u001b[38;5;250m \u001b[39m\u001b[38;5;21mmultistep\u001b[39m(values):\n\u001b[0;32m--> 124\u001b[0m   \u001b[38;5;28;01mreturn\u001b[39;00m \u001b[43mscan\u001b[49m\u001b[43m(\u001b[49m\u001b[43mstep\u001b[49m\u001b[43m,\u001b[49m\u001b[43m \u001b[49m\u001b[43mvalues\u001b[49m\u001b[43m,\u001b[49m\u001b[43m \u001b[49m\u001b[43mxs\u001b[49m\u001b[38;5;241;43m=\u001b[39;49m\u001b[38;5;28;43;01mNone\u001b[39;49;00m\u001b[43m,\u001b[49m\u001b[43m \u001b[49m\u001b[43mlength\u001b[49m\u001b[38;5;241;43m=\u001b[39;49m\u001b[43msteps\u001b[49m\u001b[43m)\u001b[49m\n",
            "File \u001b[0;32m/mnt/k/fluid_opt/jax_cfd/base/funcutils.py:79\u001b[0m, in \u001b[0;36mscan\u001b[0;34m(f, init, xs, length)\u001b[0m\n\u001b[1;32m     77\u001b[0m   ys \u001b[38;5;241m=\u001b[39m _tree_stack(length \u001b[38;5;241m*\u001b[39m [y0])\n\u001b[1;32m     78\u001b[0m   \u001b[38;5;28;01mreturn\u001b[39;00m carry, ys\n\u001b[0;32m---> 79\u001b[0m \u001b[38;5;28;01mreturn\u001b[39;00m \u001b[43mjax\u001b[49m\u001b[38;5;241;43m.\u001b[39;49m\u001b[43mlax\u001b[49m\u001b[38;5;241;43m.\u001b[39;49m\u001b[43mscan\u001b[49m\u001b[43m(\u001b[49m\u001b[43mf\u001b[49m\u001b[43m,\u001b[49m\u001b[43m \u001b[49m\u001b[43minit\u001b[49m\u001b[43m,\u001b[49m\u001b[43m \u001b[49m\u001b[43mxs\u001b[49m\u001b[43m,\u001b[49m\u001b[43m \u001b[49m\u001b[43mlength\u001b[49m\u001b[43m)\u001b[49m\n",
            "    \u001b[0;31m[... skipping hidden 9 frame]\u001b[0m\n",
            "File \u001b[0;32m/mnt/k/fluid_opt/jax_cfd/base/funcutils.py:119\u001b[0m, in \u001b[0;36mtrajectory.<locals>.step\u001b[0;34m(carry_in, _)\u001b[0m\n\u001b[1;32m    118\u001b[0m \u001b[38;5;28;01mdef\u001b[39;00m\u001b[38;5;250m \u001b[39m\u001b[38;5;21mstep\u001b[39m(carry_in, _):\n\u001b[0;32m--> 119\u001b[0m   carry_out \u001b[38;5;241m=\u001b[39m \u001b[43mstep_fn\u001b[49m\u001b[43m(\u001b[49m\u001b[43mcarry_in\u001b[49m\u001b[43m)\u001b[49m\n\u001b[1;32m    120\u001b[0m   frame \u001b[38;5;241m=\u001b[39m post_process(carry_in \u001b[38;5;28;01mif\u001b[39;00m start_with_input \u001b[38;5;28;01melse\u001b[39;00m carry_out)\n\u001b[1;32m    121\u001b[0m   \u001b[38;5;28;01mreturn\u001b[39;00m carry_out, frame\n",
            "File \u001b[0;32m/mnt/k/fluid_opt/jax_cfd/base/funcutils.py:86\u001b[0m, in \u001b[0;36mrepeated.<locals>.f_repeated\u001b[0;34m(x_initial)\u001b[0m\n\u001b[1;32m     84\u001b[0m \u001b[38;5;28;01mdef\u001b[39;00m\u001b[38;5;250m \u001b[39m\u001b[38;5;21mf_repeated\u001b[39m(x_initial):\n\u001b[1;32m     85\u001b[0m   g \u001b[38;5;241m=\u001b[39m \u001b[38;5;28;01mlambda\u001b[39;00m x, _: (f(x), \u001b[38;5;28;01mNone\u001b[39;00m)\n\u001b[0;32m---> 86\u001b[0m   x_final, _ \u001b[38;5;241m=\u001b[39m \u001b[43mscan\u001b[49m\u001b[43m(\u001b[49m\u001b[43mg\u001b[49m\u001b[43m,\u001b[49m\u001b[43m \u001b[49m\u001b[43mx_initial\u001b[49m\u001b[43m,\u001b[49m\u001b[43m \u001b[49m\u001b[43mxs\u001b[49m\u001b[38;5;241;43m=\u001b[39;49m\u001b[38;5;28;43;01mNone\u001b[39;49;00m\u001b[43m,\u001b[49m\u001b[43m \u001b[49m\u001b[43mlength\u001b[49m\u001b[38;5;241;43m=\u001b[39;49m\u001b[43msteps\u001b[49m\u001b[43m)\u001b[49m\n\u001b[1;32m     87\u001b[0m   \u001b[38;5;28;01mreturn\u001b[39;00m x_final\n",
            "File \u001b[0;32m/mnt/k/fluid_opt/jax_cfd/base/funcutils.py:79\u001b[0m, in \u001b[0;36mscan\u001b[0;34m(f, init, xs, length)\u001b[0m\n\u001b[1;32m     77\u001b[0m   ys \u001b[38;5;241m=\u001b[39m _tree_stack(length \u001b[38;5;241m*\u001b[39m [y0])\n\u001b[1;32m     78\u001b[0m   \u001b[38;5;28;01mreturn\u001b[39;00m carry, ys\n\u001b[0;32m---> 79\u001b[0m \u001b[38;5;28;01mreturn\u001b[39;00m \u001b[43mjax\u001b[49m\u001b[38;5;241;43m.\u001b[39;49m\u001b[43mlax\u001b[49m\u001b[38;5;241;43m.\u001b[39;49m\u001b[43mscan\u001b[49m\u001b[43m(\u001b[49m\u001b[43mf\u001b[49m\u001b[43m,\u001b[49m\u001b[43m \u001b[49m\u001b[43minit\u001b[49m\u001b[43m,\u001b[49m\u001b[43m \u001b[49m\u001b[43mxs\u001b[49m\u001b[43m,\u001b[49m\u001b[43m \u001b[49m\u001b[43mlength\u001b[49m\u001b[43m)\u001b[49m\n",
            "    \u001b[0;31m[... skipping hidden 9 frame]\u001b[0m\n",
            "File \u001b[0;32m/mnt/k/fluid_opt/jax_cfd/base/funcutils.py:85\u001b[0m, in \u001b[0;36mrepeated.<locals>.f_repeated.<locals>.<lambda>\u001b[0;34m(x, _)\u001b[0m\n\u001b[1;32m     84\u001b[0m \u001b[38;5;28;01mdef\u001b[39;00m\u001b[38;5;250m \u001b[39m\u001b[38;5;21mf_repeated\u001b[39m(x_initial):\n\u001b[0;32m---> 85\u001b[0m   g \u001b[38;5;241m=\u001b[39m \u001b[38;5;28;01mlambda\u001b[39;00m x, _: (\u001b[43mf\u001b[49m\u001b[43m(\u001b[49m\u001b[43mx\u001b[49m\u001b[43m)\u001b[49m, \u001b[38;5;28;01mNone\u001b[39;00m)\n\u001b[1;32m     86\u001b[0m   x_final, _ \u001b[38;5;241m=\u001b[39m scan(g, x_initial, xs\u001b[38;5;241m=\u001b[39m\u001b[38;5;28;01mNone\u001b[39;00m, length\u001b[38;5;241m=\u001b[39msteps)\n\u001b[1;32m     87\u001b[0m   \u001b[38;5;28;01mreturn\u001b[39;00m x_final\n",
            "\u001b[0;31mTypeError\u001b[0m: 'Transformed' object is not callable"
          ]
        }
      ],
      "source": [
        "inner_steps = 1_000\n",
        "outer_steps = 36\n",
        "\n",
        "step_rep   = cfd.funcutils.repeated(single_step, steps=inner_steps)\n",
        "rollout_fn = jax.jit(\n",
        "    cfd.funcutils.trajectory(step_rep, outer_steps,\n",
        "                              start_with_input=True))\n",
        "\n",
        "# 9. Run it!\n",
        "%time _, trajectory = jax.device_get(rollout_fn(v0))\n",
        "print(\"Finished – trajectory shape:\", trajectory[0].data.shape)"
      ]
    },
    {
      "cell_type": "code",
      "execution_count": null,
      "metadata": {
        "colab": {
          "height": 573
        },
        "executionInfo": {
          "elapsed": 1812,
          "status": "ok",
          "timestamp": 1655317762576,
          "user": {
            "displayName": "",
            "userId": ""
          },
          "user_tz": 420
        },
        "id": "htvk6BN2XB-H",
        "outputId": "6c383e03-538f-491d-d772-ca1d761b1e8f"
      },
      "outputs": [],
      "source": [
        "# load into xarray for visualization and analysis\n",
        "gif_frames_to_plot_amount_ratio = 3\n",
        "plotting_steps = outer_steps // gif_frames_to_plot_amount_ratio\n",
        "ds = xarray.Dataset(\n",
        "    {\n",
        "        'u': (('time', 'x', 'y'), trajectory[0].data[::gif_frames_to_plot_amount_ratio, :, :]),\n",
        "        'v': (('time', 'x', 'y'), trajectory[1].data[::gif_frames_to_plot_amount_ratio, :, :]),\n",
        "    },\n",
        "    coords={\n",
        "        'x': grid.axes()[0],\n",
        "        'y': grid.axes()[1],\n",
        "        'time': dt * inner_steps * np.arange(1, plotting_steps + 1)\n",
        "    } \n",
        ")\n",
        "\n",
        "# Plot the x-velocity\n",
        "ds.u.plot.imshow(\n",
        "    x='x', y='y', col='time', cmap=seaborn.cm.icefire, robust=True, col_wrap=4, aspect=2);"
      ]
    },
    {
      "cell_type": "code",
      "execution_count": null,
      "metadata": {
        "colab": {
          "height": 295
        },
        "executionInfo": {
          "elapsed": 392,
          "status": "ok",
          "timestamp": 1655317767581,
          "user": {
            "displayName": "",
            "userId": ""
          },
          "user_tz": 420
        },
        "id": "8V5D8pXRV-8Y",
        "outputId": "1dca792a-b2ba-4ddb-9835-2abe11b185ea"
      },
      "outputs": [],
      "source": [
        "def vx_at_x_upper_boundary(ds):\n",
        "  return ds.u.isel(x=-1)  # slice operator\n",
        "\n",
        "p = ds.pipe(vx_at_x_upper_boundary).plot(hue='time')"
      ]
    },
    {
      "cell_type": "code",
      "execution_count": null,
      "metadata": {
        "id": "kS4FNx0cPiVA"
      },
      "outputs": [],
      "source": [
        "from jax_cfd.data import visualization\n",
        "trajectory = ds.u.values  # Convert xarray DataArray to numpy array\n",
        "images = visualization.trajectory_to_images(trajectory, rotation_angle=90)\n",
        "visualization.save_movie(images, 'output_flow_movie.gif', duration=150., loop=12)"
      ]
    }
  ],
  "metadata": {
    "colab": {
      "collapsed_sections": [],
      "last_runtime": {
        "build_target": "//learning/deepmind/public/tools/ml_python:ml_notebook",
        "kind": "private"
      },
      "name": "JAX-CFD channel flow demo.ipynb",
      "provenance": [
        {
          "file_id": "/piper/depot/google3/research/simulation/whirl/cfd/notebooks/whirl_demo.ipynb",
          "timestamp": 1594817389794
        },
        {
          "file_id": "1YsLs93M4TVtYHOOMilpryHqr1xV2N7Vx",
          "timestamp": 1591818482026
        },
        {
          "file_id": "/piper/depot/google3/research/simulation/whirl/cfd/notebooks/whirl_demo.ipynb",
          "timestamp": 1591811585084
        },
        {
          "file_id": "1E_FfLTw46OmO9elqraoSSlYJW9r1Gsav",
          "timestamp": 1584980552314
        }
      ]
    },
    "kernelspec": {
      "display_name": "pycfd",
      "language": "python",
      "name": "python3"
    },
    "language_info": {
      "codemirror_mode": {
        "name": "ipython",
        "version": 3
      },
      "file_extension": ".py",
      "mimetype": "text/x-python",
      "name": "python",
      "nbconvert_exporter": "python",
      "pygments_lexer": "ipython3",
      "version": "3.12.9"
    }
  },
  "nbformat": 4,
  "nbformat_minor": 0
}
